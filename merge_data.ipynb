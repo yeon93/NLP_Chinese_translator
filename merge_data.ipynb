{
 "cells": [
  {
   "cell_type": "code",
   "execution_count": 49,
   "metadata": {},
   "outputs": [],
   "source": [
    "import os\n",
    "import glob\n",
    "import pandas as pd\n",
    "import re"
   ]
  },
  {
   "cell_type": "code",
   "execution_count": 50,
   "metadata": {},
   "outputs": [
    {
     "name": "stderr",
     "output_type": "stream",
     "text": [
      "C:\\Users\\yeonok\\anaconda3\\envs\\deeplearning\\lib\\site-packages\\IPython\\core\\interactiveshell.py:3457: DtypeWarning: Columns (7) have mixed types.Specify dtype option on import or set low_memory=False.\n",
      "  exec(code_obj, self.user_global_ns, self.user_ns)\n"
     ]
    },
    {
     "data": {
      "text/html": [
       "<div>\n",
       "<style scoped>\n",
       "    .dataframe tbody tr th:only-of-type {\n",
       "        vertical-align: middle;\n",
       "    }\n",
       "\n",
       "    .dataframe tbody tr th {\n",
       "        vertical-align: top;\n",
       "    }\n",
       "\n",
       "    .dataframe thead th {\n",
       "        text-align: right;\n",
       "    }\n",
       "</style>\n",
       "<table border=\"1\" class=\"dataframe\">\n",
       "  <thead>\n",
       "    <tr style=\"text-align: right;\">\n",
       "      <th></th>\n",
       "      <th>중국어</th>\n",
       "      <th>한국어</th>\n",
       "    </tr>\n",
       "  </thead>\n",
       "  <tbody>\n",
       "    <tr>\n",
       "      <th>0</th>\n",
       "      <td>希望能迈开宝贵的脚步,为孩子们的闪耀梦想加油。</td>\n",
       "      <td>부디 귀한 걸음 해주셔서 아이들의 반짝이는 꿈을 응원해 주시면 감사하겠습니다.</td>\n",
       "    </tr>\n",
       "    <tr>\n",
       "      <th>1</th>\n",
       "      <td>根据童子军年度运营计划,将参加由韩国童子军首尔北部联盟江北地区联合会主办的夏令营。</td>\n",
       "      <td>스카우트 연간운영계획에 따라 한국스카우트 서울북부연맹 강북지구연합회에서 주최하는 여...</td>\n",
       "    </tr>\n",
       "    <tr>\n",
       "      <th>2</th>\n",
       "      <td>通过以制造者教育为基础的前进教育,培养学生可以准备幸福未来的积极的前进价值观,举行了乌克丽丽...</td>\n",
       "      <td>메이커 교육에 기반을 둔 진로교육을 통해, 학생들의 행복한 미래를 준비할 수 있는 ...</td>\n",
       "    </tr>\n",
       "    <tr>\n",
       "      <th>3</th>\n",
       "      <td>总是对周围的各种事物或现象感兴趣,用新的眼睛看待。</td>\n",
       "      <td>주변의 여러 사물이나 현상에 늘 관심을 가지고 새로운 눈으로 바라봅니다.</td>\n",
       "    </tr>\n",
       "    <tr>\n",
       "      <th>4</th>\n",
       "      <td>这时脖子后面或耳朵后面的头发也一定要梳。</td>\n",
       "      <td>이때 목 뒤나 귀 뒤의 머리칼도 반드시 빗질해야 한다.</td>\n",
       "    </tr>\n",
       "  </tbody>\n",
       "</table>\n",
       "</div>"
      ],
      "text/plain": [
       "                                                 중국어  \\\n",
       "0                            希望能迈开宝贵的脚步,为孩子们的闪耀梦想加油。   \n",
       "1          根据童子军年度运营计划,将参加由韩国童子军首尔北部联盟江北地区联合会主办的夏令营。   \n",
       "2  通过以制造者教育为基础的前进教育,培养学生可以准备幸福未来的积极的前进价值观,举行了乌克丽丽...   \n",
       "3                          总是对周围的各种事物或现象感兴趣,用新的眼睛看待。   \n",
       "4                               这时脖子后面或耳朵后面的头发也一定要梳。   \n",
       "\n",
       "                                                 한국어  \n",
       "0        부디 귀한 걸음 해주셔서 아이들의 반짝이는 꿈을 응원해 주시면 감사하겠습니다.  \n",
       "1  스카우트 연간운영계획에 따라 한국스카우트 서울북부연맹 강북지구연합회에서 주최하는 여...  \n",
       "2  메이커 교육에 기반을 둔 진로교육을 통해, 학생들의 행복한 미래를 준비할 수 있는 ...  \n",
       "3           주변의 여러 사물이나 현상에 늘 관심을 가지고 새로운 눈으로 바라봅니다.  \n",
       "4                     이때 목 뒤나 귀 뒤의 머리칼도 반드시 빗질해야 한다.  "
      ]
     },
     "execution_count": 50,
     "metadata": {},
     "output_type": "execute_result"
    }
   ],
   "source": [
    "path = os.getcwd()\n",
    "train_files = glob.glob(os.path.join(path+'/Training', '*.csv'))\n",
    "valid_files = glob.glob(os.path.join(path+'/Validation', '*.csv'))\n",
    "\n",
    "x_train, y_train, x_valid, y_valid = [], [], [], []\n",
    "\n",
    "for t in train_files:\n",
    "    df = pd.read_csv(t)\n",
    "    x_train.extend(df['중국어'].values)\n",
    "    y_train.extend(df['한국어'].values)\n",
    "    \n",
    "for v in valid_files:\n",
    "    df = pd.read_csv(v)\n",
    "    x_valid.extend(df['중국어'].values)\n",
    "    y_valid.extend(df['한국어'].values)\n",
    "    \n",
    "x_train_s = pd.Series(x_train)\n",
    "y_train_s = pd.Series(y_train)\n",
    "\n",
    "train_df = pd.concat([x_train_s, y_train_s], axis=1)\n",
    "train_df.columns = ['중국어', '한국어']\n",
    "\n",
    "train_df.head()"
   ]
  },
  {
   "cell_type": "code",
   "execution_count": 51,
   "metadata": {},
   "outputs": [
    {
     "name": "stdout",
     "output_type": "stream",
     "text": [
      "(1040000, 2)\n"
     ]
    },
    {
     "data": {
      "text/html": [
       "<div>\n",
       "<style scoped>\n",
       "    .dataframe tbody tr th:only-of-type {\n",
       "        vertical-align: middle;\n",
       "    }\n",
       "\n",
       "    .dataframe tbody tr th {\n",
       "        vertical-align: top;\n",
       "    }\n",
       "\n",
       "    .dataframe thead th {\n",
       "        text-align: right;\n",
       "    }\n",
       "</style>\n",
       "<table border=\"1\" class=\"dataframe\">\n",
       "  <thead>\n",
       "    <tr style=\"text-align: right;\">\n",
       "      <th></th>\n",
       "      <th>중국어</th>\n",
       "      <th>한국어</th>\n",
       "    </tr>\n",
       "  </thead>\n",
       "  <tbody>\n",
       "    <tr>\n",
       "      <th>0</th>\n",
       "      <td>希望能迈开宝贵的脚步,为孩子们的闪耀梦想加油。</td>\n",
       "      <td>\\t부디 귀한 걸음 해주셔서 아이들의 반짝이는 꿈을 응원해 주시면 감사하겠습니다 .\\n</td>\n",
       "    </tr>\n",
       "    <tr>\n",
       "      <th>1</th>\n",
       "      <td>根据童子军年度运营计划,将参加由韩国童子军首尔北部联盟江北地区联合会主办的夏令营。</td>\n",
       "      <td>\\t스카우트 연간운영계획에 따라 한국스카우트 서울북부연맹 강북지구연합회에서 주최하는...</td>\n",
       "    </tr>\n",
       "    <tr>\n",
       "      <th>2</th>\n",
       "      <td>通过以制造者教育为基础的前进教育,培养学生可以准备幸福未来的积极的前进价值观,举行了乌克丽丽...</td>\n",
       "      <td>\\t메이커 교육에 기반을 둔 진로교육을 통해 , 학생들의 행복한 미래를 준비할 수 ...</td>\n",
       "    </tr>\n",
       "    <tr>\n",
       "      <th>3</th>\n",
       "      <td>总是对周围的各种事物或现象感兴趣,用新的眼睛看待。</td>\n",
       "      <td>\\t주변의 여러 사물이나 현상에 늘 관심을 가지고 새로운 눈으로 바라봅니다 .\\n</td>\n",
       "    </tr>\n",
       "    <tr>\n",
       "      <th>4</th>\n",
       "      <td>这时脖子后面或耳朵后面的头发也一定要梳。</td>\n",
       "      <td>\\t이때 목 뒤나 귀 뒤의 머리칼도 반드시 빗질해야 한다 .\\n</td>\n",
       "    </tr>\n",
       "  </tbody>\n",
       "</table>\n",
       "</div>"
      ],
      "text/plain": [
       "                                                 중국어  \\\n",
       "0                            希望能迈开宝贵的脚步,为孩子们的闪耀梦想加油。   \n",
       "1          根据童子军年度运营计划,将参加由韩国童子军首尔北部联盟江北地区联合会主办的夏令营。   \n",
       "2  通过以制造者教育为基础的前进教育,培养学生可以准备幸福未来的积极的前进价值观,举行了乌克丽丽...   \n",
       "3                          总是对周围的各种事物或现象感兴趣,用新的眼睛看待。   \n",
       "4                               这时脖子后面或耳朵后面的头发也一定要梳。   \n",
       "\n",
       "                                                 한국어  \n",
       "0   \\t부디 귀한 걸음 해주셔서 아이들의 반짝이는 꿈을 응원해 주시면 감사하겠습니다 .\\n  \n",
       "1  \\t스카우트 연간운영계획에 따라 한국스카우트 서울북부연맹 강북지구연합회에서 주최하는...  \n",
       "2  \\t메이커 교육에 기반을 둔 진로교육을 통해 , 학생들의 행복한 미래를 준비할 수 ...  \n",
       "3      \\t주변의 여러 사물이나 현상에 늘 관심을 가지고 새로운 눈으로 바라봅니다 .\\n  \n",
       "4                \\t이때 목 뒤나 귀 뒤의 머리칼도 반드시 빗질해야 한다 .\\n  "
      ]
     },
     "execution_count": 51,
     "metadata": {},
     "output_type": "execute_result"
    }
   ],
   "source": [
    "#한국어 전처리\n",
    "def preprocess_kr(w):\n",
    "    w = w.strip()\n",
    "\n",
    "    # 단어와 단어 뒤에 오는 구두점(.)사이에 공백을 생성\n",
    "    w = re.sub(r\"([?.!,¿])\", r\" \\1 \", w)\n",
    "    w = re.sub(r'[\" \"]+', \" \", w)\n",
    "\n",
    "    w = re.sub(r'[ |ㄱ-ㅎ|ㅏ-ㅣ]+', \" \", w)\n",
    "\n",
    "    w = w.strip()\n",
    "\n",
    "    # 모델이 예측을 시작하거나 중단할 때를 알게 하기 위해 문장에 '\\t', '\\n' 토큰을 추가\n",
    "    w = '\\t' + w + '\\n'\n",
    "    return w  \n",
    "\n",
    "#중국어 전처리\n",
    "#def preprocess_ch(w):\n",
    "#    try:\n",
    "#        w = w.encode('EUC_CN')\n",
    "#        return w[1:]\n",
    "#    except:\n",
    "#        pass\n",
    "    \n",
    "train_df['한국어'] = train_df['한국어'].apply(preprocess_kr)  \n",
    "#train_df['중국어'] = train_df['중국어'].apply(preprocess_ch)  \n",
    "\n",
    "print(train_df.shape)\n",
    "train_df.head()"
   ]
  },
  {
   "cell_type": "code",
   "execution_count": 54,
   "metadata": {},
   "outputs": [],
   "source": [
    "train_df.to_csv('train_df.csv')"
   ]
  }
 ],
 "metadata": {
  "interpreter": {
   "hash": "69c8677b1f8ccfde3073d2bded8a29c1e935f484b87084bb35169fef412b9953"
  },
  "kernelspec": {
   "display_name": "Python 3.8.0 ('deeplearning')",
   "language": "python",
   "name": "python3"
  },
  "language_info": {
   "codemirror_mode": {
    "name": "ipython",
    "version": 3
   },
   "file_extension": ".py",
   "mimetype": "text/x-python",
   "name": "python",
   "nbconvert_exporter": "python",
   "pygments_lexer": "ipython3",
   "version": "3.8.0"
  },
  "orig_nbformat": 4
 },
 "nbformat": 4,
 "nbformat_minor": 2
}
