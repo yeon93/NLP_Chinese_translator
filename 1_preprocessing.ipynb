{
 "cells": [
  {
   "cell_type": "markdown",
   "metadata": {},
   "source": [
    "### AI HUB에서 한국어-중국어 번역 말뭉치(사회과학, 기술과학) 다운로드\n",
    "+ 데이터 구축분야\n",
    "    + 사회과학 : 금융/증시, 사회/노동/복지, 교육, 문화재/향토/K-FOOD, 조례, 정치/행정, K-POP(한류)/대중문화_공연_콘텐츠\n",
    "    + 기술과학 : 의료/보건, 특허/기술, 자동차/교통/소재, IT/컴퓨터/모바일\n",
    "+ 한글 원문 어절 수 : 평균 15어절\n",
    "+ 수량 : 병렬 말뭉치 130만개씩 총 260만개\n",
    "+ 분야별 세부 구축 수량(단위:만)\n",
    "    + 사회과학 : 금융/증시(20만), 사회/노동/복지(20만), 교육(10만), 문화재/향토/K-FOOD(15만), 조례(20만), 정치/행정(25만), K-POP(한류)/대중문화_공연_콘텐츠(20만)\n",
    "    + 기술과학 : 의료/보건(25만), 특허/기술(15만), 자동차/교통/소재(30만), IT/컴퓨터/모바일(60만)\n",
    "    \n",
    "<img src='https://aihub.or.kr/sites/default/files/styles/max_2600x2600/public/2021-05/028.%E1%84%92%E1%85%A1%E1%86%AB%E1%84%80%E1%85%AE%E1%86%A8%E1%84%8B%E1%85%A5-%E1%84%8C%E1%85%AE%E1%86%BC%E1%84%80%E1%85%AE%E1%86%A8%E1%84%8B%E1%85%A5%20%E1%84%87%E1%85%A5%E1%86%AB%E1%84%8B%E1%85%A7%E1%86%A8%20%E1%84%86%E1%85%A1%E1%86%AF%E1%84%86%E1%85%AE%E1%86%BC%E1%84%8E%E1%85%B5%28%E1%84%89%E1%85%A1%E1%84%92%E1%85%AC%E1%84%80%E1%85%AA%E1%84%92%E1%85%A1%E1%86%A8%29_%E1%84%83%E1%85%A2%E1%84%91%E1%85%AD%E1%84%83%E1%85%A9%E1%84%86%E1%85%A7%E1%86%AB.png?itok=AQ_3oXxE' width='700' height='200'>\n",
    "\n",
    "=> 9가지 정보 중 한국어, 중국어 정보만 추출"
   ]
  },
  {
   "cell_type": "code",
   "execution_count": 1,
   "metadata": {},
   "outputs": [],
   "source": [
    "#!pip install jieba   "
   ]
  },
  {
   "cell_type": "code",
   "execution_count": 2,
   "metadata": {},
   "outputs": [],
   "source": [
    "import os\n",
    "import glob\n",
    "import pandas as pd\n",
    "import re\n",
    "import jieba        #중국어 문장을 단어 단위로 분할 출력"
   ]
  },
  {
   "cell_type": "code",
   "execution_count": 3,
   "metadata": {},
   "outputs": [
    {
     "name": "stderr",
     "output_type": "stream",
     "text": [
      "C:\\Users\\yeonok\\AppData\\Local\\Temp\\ipykernel_9548\\1557320390.py:8: DtypeWarning: Columns (7) have mixed types. Specify dtype option on import or set low_memory=False.\n",
      "  train_df = pd.read_csv(t)\n"
     ]
    },
    {
     "name": "stdout",
     "output_type": "stream",
     "text": [
      "번역 데이터 : 학습용 2080000개, 검증용 260000개\n"
     ]
    },
    {
     "data": {
      "text/html": [
       "<div>\n",
       "<style scoped>\n",
       "    .dataframe tbody tr th:only-of-type {\n",
       "        vertical-align: middle;\n",
       "    }\n",
       "\n",
       "    .dataframe tbody tr th {\n",
       "        vertical-align: top;\n",
       "    }\n",
       "\n",
       "    .dataframe thead th {\n",
       "        text-align: right;\n",
       "    }\n",
       "</style>\n",
       "<table border=\"1\" class=\"dataframe\">\n",
       "  <thead>\n",
       "    <tr style=\"text-align: right;\">\n",
       "      <th></th>\n",
       "      <th>중국어</th>\n",
       "      <th>한국어</th>\n",
       "    </tr>\n",
       "  </thead>\n",
       "  <tbody>\n",
       "    <tr>\n",
       "      <th>123604</th>\n",
       "      <td>新任保时捷韩国代表理事盖尔曼在保时捷设计公司任职近2年,在保时捷英国法人和保时捷零售集团任职...</td>\n",
       "      <td>홀가 게어만 신임 포르쉐코리아 대표이사는 포르쉐 디자인그룹에서 최근 2년간 재직했으...</td>\n",
       "    </tr>\n",
       "    <tr>\n",
       "      <th>1432753</th>\n",
       "      <td>从明年1月开始,如果连续血糖测定器和胰岛素自动注射器适用健康保险补助,患者只需在购买基准价或...</td>\n",
       "      <td>내년 1월부터 연속혈당측정기와 인슐린자동주입기에 건강보험 급여가 적용되면 환자는 기...</td>\n",
       "    </tr>\n",
       "    <tr>\n",
       "      <th>576045</th>\n",
       "      <td>我们的努力能够点亮他人人生,这让我非常感动。</td>\n",
       "      <td>우리의 노력이 누군가에게 삶을 줄 수 있다는 것이 아주 감동적일 수 밖에 없었습니다.</td>\n",
       "    </tr>\n",
       "    <tr>\n",
       "      <th>2045688</th>\n",
       "      <td>工会相关人士表示：\"明后天共有9名委员召开协议体进行第一次会议\",\"目前还没有向任何方向达成...</td>\n",
       "      <td>노조 관계자는 \"내일 모레 총 9명의 위원이 협의체를 열어서 첫 회의를 한다\"며 \"...</td>\n",
       "    </tr>\n",
       "    <tr>\n",
       "      <th>1786933</th>\n",
       "      <td>曾担任民主党领导的3选议员说:\"舆论地形正在发出信号,如果没有政治圈的反应,民心就会更加恶化。\"</td>\n",
       "      <td>민주당 지도부를 지낸 3선 의원은 \"여론 지형이 신호를 보내고 있는데 정치권의 반응...</td>\n",
       "    </tr>\n",
       "  </tbody>\n",
       "</table>\n",
       "</div>"
      ],
      "text/plain": [
       "                                                       중국어  \\\n",
       "123604   新任保时捷韩国代表理事盖尔曼在保时捷设计公司任职近2年,在保时捷英国法人和保时捷零售集团任职...   \n",
       "1432753  从明年1月开始,如果连续血糖测定器和胰岛素自动注射器适用健康保险补助,患者只需在购买基准价或...   \n",
       "576045                              我们的努力能够点亮他人人生,这让我非常感动。   \n",
       "2045688  工会相关人士表示：\"明后天共有9名委员召开协议体进行第一次会议\",\"目前还没有向任何方向达成...   \n",
       "1786933   曾担任民主党领导的3选议员说:\"舆论地形正在发出信号,如果没有政治圈的反应,民心就会更加恶化。\"   \n",
       "\n",
       "                                                       한국어  \n",
       "123604   홀가 게어만 신임 포르쉐코리아 대표이사는 포르쉐 디자인그룹에서 최근 2년간 재직했으...  \n",
       "1432753  내년 1월부터 연속혈당측정기와 인슐린자동주입기에 건강보험 급여가 적용되면 환자는 기...  \n",
       "576045     우리의 노력이 누군가에게 삶을 줄 수 있다는 것이 아주 감동적일 수 밖에 없었습니다.  \n",
       "2045688  노조 관계자는 \"내일 모레 총 9명의 위원이 협의체를 열어서 첫 회의를 한다\"며 \"...  \n",
       "1786933  민주당 지도부를 지낸 3선 의원은 \"여론 지형이 신호를 보내고 있는데 정치권의 반응...  "
      ]
     },
     "execution_count": 3,
     "metadata": {},
     "output_type": "execute_result"
    }
   ],
   "source": [
    "path = os.getcwd()\n",
    "train_files = glob.glob(os.path.join(path+'/Training', '*.csv'))\n",
    "valid_files = glob.glob(os.path.join(path+'/Validation', '*.csv'))\n",
    "\n",
    "x_train, y_train, x_valid, y_valid = [], [], [], []\n",
    "\n",
    "for t in train_files:\n",
    "    train_df = pd.read_csv(t)\n",
    "    x_train.extend(train_df['중국어'].values)\n",
    "    y_train.extend(train_df['한국어'].values)\n",
    "    \n",
    "for v in valid_files:\n",
    "    valid_df = pd.read_csv(v)\n",
    "    x_valid.extend(valid_df['중국어'].values)\n",
    "    y_valid.extend(valid_df['한국어'].values)\n",
    "    \n",
    "x_train_s = pd.Series(x_train)\n",
    "y_train_s = pd.Series(y_train)\n",
    "train_df = pd.concat([x_train_s, y_train_s], axis=1)\n",
    "train_df.columns = ['중국어', '한국어']\n",
    "\n",
    "x_valid_s = pd.Series(x_valid)\n",
    "y_valid_s = pd.Series(y_valid)\n",
    "valid_df = pd.concat([x_valid_s, y_valid_s], axis=1)\n",
    "valid_df.columns = ['중국어', '한국어']\n",
    "\n",
    "print('번역 데이터 : 학습용 {}개, 검증용 {}개'.format(len(train_df), len(valid_df)))\n",
    "train_df.sample(5)"
   ]
  },
  {
   "cell_type": "code",
   "execution_count": 5,
   "metadata": {},
   "outputs": [],
   "source": [
    "#한국어 전처리\n",
    "\"\"\"\n",
    "(전)           명절 가사 노동이 여성에게만 쏠리는 현상은 '성차별'이라는 지적이 있다.\n",
    "(후)   <start> 명절 가사 노동이 여성에게만 쏠리는 현상은 ' 성차별 ' 이라는 지적이 있다 . <end>\n",
    "\"\"\"\n",
    "def preprocess_kr(w):\n",
    "    w = w.strip()\n",
    "\n",
    "    # 단어와 단어 뒤에 오는 구두점(.)사이에 공백을 생성\n",
    "    # ex) '감사하겠습니다.' => '감사하겠습니다 . '\n",
    "    w = re.sub(r\"([?.'!,¿\\\"])\", r\" \\1 \", w)\n",
    "    #w = re.sub(r'+', \" \", w)\n",
    "\n",
    "    # (a-z, A-Z, \".\", \"?\", \"!\", \",\")을 제외한 모든 것을 공백으로 대체\n",
    "    w = re.sub(r'[ |ㄱ-ㅎ|ㅏ-ㅣ]+', \" \", w)\n",
    "\n",
    "    w = w.strip()\n",
    "\n",
    "    # 모델에 예측 시작과 끝을 알려주기 위해 <start>, <end> 토큰을 추가\n",
    "    w = '<start> ' + w + ' <end>'\n",
    "    return w  "
   ]
  },
  {
   "cell_type": "code",
   "execution_count": 6,
   "metadata": {},
   "outputs": [],
   "source": [
    "#중국어 전처리 \n",
    "#cut_all=True 로 하면 全模式(완전모드)로, 단어가 될 수 있는 모든 어구를 스캔해 출력\n",
    "#cut_all=False 로 하면 精确模式 (기본 모드)를 사용해 문장의 변형 없이 단어 단위로 분할 출력\n",
    "\"\"\"\n",
    "(전)          有人指出,节日家务劳动只集中在女性身上的现象是\"性别歧视\"\n",
    "(후)  <start> 有人 指出 , 节日 家务劳动 只 集中 在 女性 身上 的 现象 是 \" 性别歧视 \" <end>\n",
    "\"\"\"\n",
    "def preprocess_ch(w):\n",
    "    w = ' '.join(jieba.cut(w, cut_all=False))   \n",
    "    w = w.rstrip().strip()\n",
    "    w = '<start> ' + w + ' <end>'\n",
    "    return w"
   ]
  },
  {
   "cell_type": "code",
   "execution_count": 7,
   "metadata": {},
   "outputs": [],
   "source": [
    "#한국어, 중국어 전처리를 한번에 해줄 함수 작성\n",
    "def preprocess(path):\n",
    "    files = glob.glob(os.path.join(path, '*.csv'))\n",
    "    ch, ko = [], []\n",
    "    \n",
    "    for f in files:\n",
    "        df = pd.read_csv(f)\n",
    "        ch.extend(df['중국어'].values)\n",
    "        ko.extend(df['한국어'].values)\n",
    "    \n",
    "    ch_series = pd.Series(ch)\n",
    "    ko_series = pd.Series(ko)\n",
    "    \n",
    "    df = pd.concat([ch_series, ko_series], axis=1)\n",
    "    df.columns = ['중국어', '한국어']\n",
    "    \n",
    "    df['중국어'] = df['중국어'].apply(preprocess_ch)\n",
    "    df['한국어'] = df['한국어'].apply(preprocess_kr)\n",
    "    \n",
    "    return df"
   ]
  },
  {
   "cell_type": "code",
   "execution_count": 8,
   "metadata": {},
   "outputs": [
    {
     "name": "stderr",
     "output_type": "stream",
     "text": [
      "C:\\Users\\yeonok\\AppData\\Local\\Temp\\ipykernel_9548\\4155401409.py:7: DtypeWarning: Columns (7) have mixed types. Specify dtype option on import or set low_memory=False.\n",
      "  df = pd.read_csv(f)\n",
      "Building prefix dict from the default dictionary ...\n",
      "Loading model from cache C:\\Users\\yeonok\\AppData\\Local\\Temp\\jieba.cache\n",
      "Loading model cost 0.438 seconds.\n",
      "Prefix dict has been built successfully.\n"
     ]
    },
    {
     "name": "stdout",
     "output_type": "stream",
     "text": [
      "훈련 데이터셋 크기 : (2080000, 2)\n"
     ]
    },
    {
     "data": {
      "text/html": [
       "<div>\n",
       "<style scoped>\n",
       "    .dataframe tbody tr th:only-of-type {\n",
       "        vertical-align: middle;\n",
       "    }\n",
       "\n",
       "    .dataframe tbody tr th {\n",
       "        vertical-align: top;\n",
       "    }\n",
       "\n",
       "    .dataframe thead th {\n",
       "        text-align: right;\n",
       "    }\n",
       "</style>\n",
       "<table border=\"1\" class=\"dataframe\">\n",
       "  <thead>\n",
       "    <tr style=\"text-align: right;\">\n",
       "      <th></th>\n",
       "      <th>중국어</th>\n",
       "      <th>한국어</th>\n",
       "    </tr>\n",
       "  </thead>\n",
       "  <tbody>\n",
       "    <tr>\n",
       "      <th>975467</th>\n",
       "      <td>&lt;start&gt; SKT 总经理 朴正浩 ( 音 ) 、 Sing   Tel 集团 CEO ...</td>\n",
       "      <td>&lt;start&gt; SKT 박정호 사장 , 싱텔 그룹 추아 쿵 CEO , AIS 쏨차이 ...</td>\n",
       "    </tr>\n",
       "    <tr>\n",
       "      <th>1837790</th>\n",
       "      <td>&lt;start&gt; 也就是说 , 68% 的 民主党 支持者 认为 北朝鲜 是 对 美国 国家 ...</td>\n",
       "      <td>&lt;start&gt; 민주당 지지자 68%가 북한을 미 국가안보에 대한 위협이라고 답한 것...</td>\n",
       "    </tr>\n",
       "    <tr>\n",
       "      <th>1596090</th>\n",
       "      <td>&lt;start&gt; P2P 保险 是 具有 类似 风险 的 投保人 设立 \" 风险 池 \" , ...</td>\n",
       "      <td>&lt;start&gt; P2P 보험은 비슷한 위험을 가진 계약자들이 ' 리스크 풀 ' 을 짜...</td>\n",
       "    </tr>\n",
       "  </tbody>\n",
       "</table>\n",
       "</div>"
      ],
      "text/plain": [
       "                                                       중국어  \\\n",
       "975467   <start> SKT 总经理 朴正浩 ( 音 ) 、 Sing   Tel 集团 CEO ...   \n",
       "1837790  <start> 也就是说 , 68% 的 民主党 支持者 认为 北朝鲜 是 对 美国 国家 ...   \n",
       "1596090  <start> P2P 保险 是 具有 类似 风险 的 投保人 设立 \" 风险 池 \" , ...   \n",
       "\n",
       "                                                       한국어  \n",
       "975467   <start> SKT 박정호 사장 , 싱텔 그룹 추아 쿵 CEO , AIS 쏨차이 ...  \n",
       "1837790  <start> 민주당 지지자 68%가 북한을 미 국가안보에 대한 위협이라고 답한 것...  \n",
       "1596090  <start> P2P 보험은 비슷한 위험을 가진 계약자들이 ' 리스크 풀 ' 을 짜...  "
      ]
     },
     "execution_count": 8,
     "metadata": {},
     "output_type": "execute_result"
    }
   ],
   "source": [
    "path = os.getcwd()\n",
    "train_df = preprocess(path+'/Training')\n",
    "\n",
    "print('훈련 데이터셋 크기 : {}'.format(train_df.shape))\n",
    "train_df.sample(3)"
   ]
  },
  {
   "cell_type": "code",
   "execution_count": 9,
   "metadata": {},
   "outputs": [],
   "source": [
    "train_df.to_csv('train_df.csv')"
   ]
  }
 ],
 "metadata": {
  "kernelspec": {
   "display_name": "Python 3.8.0 ('ch_to_ko')",
   "language": "python",
   "name": "python3"
  },
  "language_info": {
   "codemirror_mode": {
    "name": "ipython",
    "version": 3
   },
   "file_extension": ".py",
   "mimetype": "text/x-python",
   "name": "python",
   "nbconvert_exporter": "python",
   "pygments_lexer": "ipython3",
   "version": "3.8.0"
  },
  "orig_nbformat": 4,
  "vscode": {
   "interpreter": {
    "hash": "bbccb89b148dd9514aef483b7dbf5ef69a5110c405a551087bd813f1e5edc75f"
   }
  }
 },
 "nbformat": 4,
 "nbformat_minor": 2
}
