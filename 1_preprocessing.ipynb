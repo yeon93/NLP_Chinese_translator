{
 "cells": [
  {
   "cell_type": "markdown",
   "metadata": {},
   "source": [
    "### AI HUB에서 한국어-중국어 번역 말뭉치(사회과학, 기술과학) 다운로드\n",
    "+ 데이터 구축분야\n",
    "    + 사회과학 : 금융/증시, 사회/노동/복지, 교육, 문화재/향토/K-FOOD, 조례, 정치/행정, K-POP(한류)/대중문화_공연_콘텐츠\n",
    "    + 기술과학 : 의료/보건, 특허/기술, 자동차/교통/소재, IT/컴퓨터/모바일\n",
    "+ 한글 원문 어절 수 : 평균 15어절\n",
    "+ 수량 : 병렬 말뭉치 130만개씩 총 260만개\n",
    "+ 분야별 세부 구축 수량(단위:만)\n",
    "    + 사회과학 : 금융/증시(20만), 사회/노동/복지(20만), 교육(10만), 문화재/향토/K-FOOD(15만), 조례(20만), 정치/행정(25만), K-POP(한류)/대중문화_공연_콘텐츠(20만)\n",
    "    + 기술과학 : 의료/보건(25만), 특허/기술(15만), 자동차/교통/소재(30만), IT/컴퓨터/모바일(60만)\n",
    "    \n",
    "<img src='https://aihub.or.kr/sites/default/files/styles/max_2600x2600/public/2021-05/028.%E1%84%92%E1%85%A1%E1%86%AB%E1%84%80%E1%85%AE%E1%86%A8%E1%84%8B%E1%85%A5-%E1%84%8C%E1%85%AE%E1%86%BC%E1%84%80%E1%85%AE%E1%86%A8%E1%84%8B%E1%85%A5%20%E1%84%87%E1%85%A5%E1%86%AB%E1%84%8B%E1%85%A7%E1%86%A8%20%E1%84%86%E1%85%A1%E1%86%AF%E1%84%86%E1%85%AE%E1%86%BC%E1%84%8E%E1%85%B5%28%E1%84%89%E1%85%A1%E1%84%92%E1%85%AC%E1%84%80%E1%85%AA%E1%84%92%E1%85%A1%E1%86%A8%29_%E1%84%83%E1%85%A2%E1%84%91%E1%85%AD%E1%84%83%E1%85%A9%E1%84%86%E1%85%A7%E1%86%AB.png?itok=AQ_3oXxE' width='700' height='200'>\n",
    "\n",
    "=> 9가지 정보 중 한국어, 중국어 정보만 추출"
   ]
  },
  {
   "cell_type": "code",
   "execution_count": 1,
   "metadata": {},
   "outputs": [],
   "source": [
    "#!pip install jieba   "
   ]
  },
  {
   "cell_type": "code",
   "execution_count": 1,
   "metadata": {},
   "outputs": [],
   "source": [
    "import os\n",
    "import glob\n",
    "import pandas as pd\n",
    "import re\n",
    "import jieba        #중국어 문장을 단어 단위로 분할 출력"
   ]
  },
  {
   "cell_type": "code",
   "execution_count": 3,
   "metadata": {},
   "outputs": [
    {
     "name": "stderr",
     "output_type": "stream",
     "text": [
      "C:\\Users\\yeonok\\AppData\\Local\\Temp\\ipykernel_1220\\1557320390.py:8: DtypeWarning: Columns (7) have mixed types. Specify dtype option on import or set low_memory=False.\n",
      "  train_df = pd.read_csv(t)\n"
     ]
    },
    {
     "name": "stdout",
     "output_type": "stream",
     "text": [
      "번역 데이터 : 학습용 2080000개, 검증용 260000개\n"
     ]
    },
    {
     "data": {
      "text/html": [
       "<div>\n",
       "<style scoped>\n",
       "    .dataframe tbody tr th:only-of-type {\n",
       "        vertical-align: middle;\n",
       "    }\n",
       "\n",
       "    .dataframe tbody tr th {\n",
       "        vertical-align: top;\n",
       "    }\n",
       "\n",
       "    .dataframe thead th {\n",
       "        text-align: right;\n",
       "    }\n",
       "</style>\n",
       "<table border=\"1\" class=\"dataframe\">\n",
       "  <thead>\n",
       "    <tr style=\"text-align: right;\">\n",
       "      <th></th>\n",
       "      <th>중국어</th>\n",
       "      <th>한국어</th>\n",
       "    </tr>\n",
       "  </thead>\n",
       "  <tbody>\n",
       "    <tr>\n",
       "      <th>184137</th>\n",
       "      <td>福特决定,在转让价值8亿4,800万美元的股票的同时,继续保留价值7,700万美元的股份。</td>\n",
       "      <td>포드는 8억4,800만달러 상당의 주식을 양도하는 대신 7,700만달러 상당의 지분...</td>\n",
       "    </tr>\n",
       "    <tr>\n",
       "      <th>1763142</th>\n",
       "      <td>调查显示,绝大多数国民认为第20届国会中政党间的\"协治\"没有顺利进行。</td>\n",
       "      <td>국민 절대다수가 20대 국회에서 정당 간 '협치'가 제대로 이뤄지지 않았다고 보는 ...</td>\n",
       "    </tr>\n",
       "    <tr>\n",
       "      <th>1010550</th>\n",
       "      <td>出行初创公司担忧未来产业投资萎缩的可能性,而出租车行业则主张法院应该宣判实刑。</td>\n",
       "      <td>모빌리티 스타트업 업계는 미래산업 투자 위축 가능성을 우려한 반면 택시업계는 법원이...</td>\n",
       "    </tr>\n",
       "    <tr>\n",
       "      <th>1589814</th>\n",
       "      <td>有人指出,节日家务劳动只集中在女性身上的现象是\"性别歧视\"</td>\n",
       "      <td>명절 가사 노동이 여성에게만 쏠리는 현상은 '성차별'이라는 지적이 있다.</td>\n",
       "    </tr>\n",
       "    <tr>\n",
       "      <th>87707</th>\n",
       "      <td>基本上在2725毫米的轮毂基座上确保了1008毫米的宽幅伸腿的空间,这既是为了制作舒适的后排...</td>\n",
       "      <td>기본적으로 2,725㎜의 휠베이스에 1,008㎜의 넓은 레그룸을 확보한 만큼 편한 ...</td>\n",
       "    </tr>\n",
       "  </tbody>\n",
       "</table>\n",
       "</div>"
      ],
      "text/plain": [
       "                                                       중국어  \\\n",
       "184137       福特决定,在转让价值8亿4,800万美元的股票的同时,继续保留价值7,700万美元的股份。   \n",
       "1763142                调查显示,绝大多数国民认为第20届国会中政党间的\"协治\"没有顺利进行。   \n",
       "1010550            出行初创公司担忧未来产业投资萎缩的可能性,而出租车行业则主张法院应该宣判实刑。   \n",
       "1589814                      有人指出,节日家务劳动只集中在女性身上的现象是\"性别歧视\"   \n",
       "87707    基本上在2725毫米的轮毂基座上确保了1008毫米的宽幅伸腿的空间,这既是为了制作舒适的后排...   \n",
       "\n",
       "                                                       한국어  \n",
       "184137   포드는 8억4,800만달러 상당의 주식을 양도하는 대신 7,700만달러 상당의 지분...  \n",
       "1763142  국민 절대다수가 20대 국회에서 정당 간 '협치'가 제대로 이뤄지지 않았다고 보는 ...  \n",
       "1010550  모빌리티 스타트업 업계는 미래산업 투자 위축 가능성을 우려한 반면 택시업계는 법원이...  \n",
       "1589814           명절 가사 노동이 여성에게만 쏠리는 현상은 '성차별'이라는 지적이 있다.  \n",
       "87707    기본적으로 2,725㎜의 휠베이스에 1,008㎜의 넓은 레그룸을 확보한 만큼 편한 ...  "
      ]
     },
     "execution_count": 3,
     "metadata": {},
     "output_type": "execute_result"
    }
   ],
   "source": [
    "path = os.getcwd()\n",
    "train_files = glob.glob(os.path.join(path+'/Training', '*.csv'))\n",
    "valid_files = glob.glob(os.path.join(path+'/Validation', '*.csv'))\n",
    "\n",
    "x_train, y_train, x_valid, y_valid = [], [], [], []\n",
    "\n",
    "for t in train_files:\n",
    "    train_df = pd.read_csv(t)\n",
    "    x_train.extend(train_df['중국어'].values)\n",
    "    y_train.extend(train_df['한국어'].values)\n",
    "    \n",
    "for v in valid_files:\n",
    "    valid_df = pd.read_csv(v)\n",
    "    x_valid.extend(valid_df['중국어'].values)\n",
    "    y_valid.extend(valid_df['한국어'].values)\n",
    "    \n",
    "x_train_s = pd.Series(x_train)\n",
    "y_train_s = pd.Series(y_train)\n",
    "train_df = pd.concat([x_train_s, y_train_s], axis=1)\n",
    "train_df.columns = ['중국어', '한국어']\n",
    "\n",
    "x_valid_s = pd.Series(x_valid)\n",
    "y_valid_s = pd.Series(y_valid)\n",
    "valid_df = pd.concat([x_valid_s, y_valid_s], axis=1)\n",
    "valid_df.columns = ['중국어', '한국어']\n",
    "\n",
    "print('번역 데이터 : 학습용 {}개, 검증용 {}개'.format(len(train_df), len(valid_df)))\n",
    "train_df.sample(5)"
   ]
  },
  {
   "cell_type": "code",
   "execution_count": 2,
   "metadata": {},
   "outputs": [],
   "source": [
    "#한국어 전처리\n",
    "\"\"\"\n",
    "(전)          명절 가사 노동이 여성에게만 쏠리는 현상은 '성차별'이라는 지적이 있다.\n",
    "(후)   <start>명절 가사 노동이 여성에게만 쏠리는 현상은 '성차별'이라는 지적이 있다 .<end>\n",
    "\"\"\"\n",
    "def preprocess_kr(w):\n",
    "    w = w.strip()\n",
    "\n",
    "    # 단어와 단어 뒤에 오는 구두점(.)사이에 공백을 생성\n",
    "    # ex) '감사하겠습니다.' => '감사하겠습니다 .'\n",
    "    w = re.sub(r\"([?.!,¿])\", r\" \\1 \", w)\n",
    "    w = re.sub(r'[\" \"]+', \" \", w)\n",
    "\n",
    "    # (a-z, A-Z, \".\", \"?\", \"!\", \",\")을 제외한 모든 것을 공백으로 대체\n",
    "    w = re.sub(r'[ |ㄱ-ㅎ|ㅏ-ㅣ]+', \" \", w)\n",
    "\n",
    "    w = w.strip()\n",
    "\n",
    "    # 모델에 예측 시작과 끝을 알려주기 위해 <start>, <end> 토큰을 추가\n",
    "    w = '<start>' + w + '<end>'\n",
    "    return w  "
   ]
  },
  {
   "cell_type": "code",
   "execution_count": 3,
   "metadata": {},
   "outputs": [],
   "source": [
    "#중국어 전처리 \n",
    "#cut_all=True 로 하면 全模式(완전모드)로, 단어가 될 수 있는 모든 어구를 스캔해 출력\n",
    "#cut_all=False 로 하면 精确模式 (기본 모드)를 사용해 문장의 변형 없이 단어 단위로 분할 출력\n",
    "\"\"\"\n",
    "(전)          有人指出,节日家务劳动只集中在女性身上的现象是\"性别歧视\"\n",
    "(후)  <start> 有人 指出 , 节日 家务劳动 只 集中 在 女性 身上 的 现象 是 \" 性别歧视 \" <end>\n",
    "\"\"\"\n",
    "def preprocess_ch(w):\n",
    "    w = ' '.join(jieba.cut(w, cut_all=False))   \n",
    "    w = w.rstrip().strip()\n",
    "    w = '<start> ' + w + ' <end>'\n",
    "    return w"
   ]
  },
  {
   "cell_type": "code",
   "execution_count": 4,
   "metadata": {},
   "outputs": [],
   "source": [
    "#한국어, 중국어 전처리를 한번에 해줄 함수 작성\n",
    "def preprocess(path):\n",
    "    files = glob.glob(os.path.join(path, '*.csv'))\n",
    "    ch, ko = [], []\n",
    "    \n",
    "    for f in files:\n",
    "        df = pd.read_csv(f)\n",
    "        ch.extend(df['중국어'].values)\n",
    "        ko.extend(df['한국어'].values)\n",
    "    \n",
    "    ch_series = pd.Series(ch)\n",
    "    ko_series = pd.Series(ko)\n",
    "    \n",
    "    df = pd.concat([ch_series, ko_series], axis=1)\n",
    "    df.columns = ['중국어', '한국어']\n",
    "    \n",
    "    df['중국어'] = df['중국어'].apply(preprocess_ch)\n",
    "    df['한국어'] = df['한국어'].apply(preprocess_kr)\n",
    "    \n",
    "    return df"
   ]
  },
  {
   "cell_type": "code",
   "execution_count": 8,
   "metadata": {},
   "outputs": [
    {
     "name": "stderr",
     "output_type": "stream",
     "text": [
      "C:\\Users\\yeonok\\AppData\\Local\\Temp\\ipykernel_10868\\4155401409.py:7: DtypeWarning: Columns (7) have mixed types. Specify dtype option on import or set low_memory=False.\n",
      "  df = pd.read_csv(f)\n"
     ]
    },
    {
     "data": {
      "text/html": [
       "<div>\n",
       "<style scoped>\n",
       "    .dataframe tbody tr th:only-of-type {\n",
       "        vertical-align: middle;\n",
       "    }\n",
       "\n",
       "    .dataframe tbody tr th {\n",
       "        vertical-align: top;\n",
       "    }\n",
       "\n",
       "    .dataframe thead th {\n",
       "        text-align: right;\n",
       "    }\n",
       "</style>\n",
       "<table border=\"1\" class=\"dataframe\">\n",
       "  <thead>\n",
       "    <tr style=\"text-align: right;\">\n",
       "      <th></th>\n",
       "      <th>중국어</th>\n",
       "      <th>한국어</th>\n",
       "    </tr>\n",
       "  </thead>\n",
       "  <tbody>\n",
       "    <tr>\n",
       "      <th>1832330</th>\n",
       "      <td>&lt;start&gt; 但是 , 前任 经济部长 和 专家 们 却 表示 : \" 如果 认为 在 选...</td>\n",
       "      <td>&lt;start&gt;하지만 전직 경제장관과 전문가들은 선거에서 이겼다고 국민이 현 정부 경...</td>\n",
       "    </tr>\n",
       "    <tr>\n",
       "      <th>1111555</th>\n",
       "      <td>&lt;start&gt; 此前 TV 朝鲜 《 明日 - Miss   Trot 》 孝 演唱会 \" ...</td>\n",
       "      <td>&lt;start&gt;앞서 TV조선 '내일은-미스트롯 孝 콘서트'는 목포 콘서트는 전석 매진...</td>\n",
       "    </tr>\n",
       "    <tr>\n",
       "      <th>2047905</th>\n",
       "      <td>&lt;start&gt; 但是 , 在 进行 总罢工 时 , 由于 必须 维持 人力 无论 物 流量 ...</td>\n",
       "      <td>&lt;start&gt;다만 총파업 돌입시에는 필수유지 인력도 물량에 상관없이 정시퇴근을 하는...</td>\n",
       "    </tr>\n",
       "  </tbody>\n",
       "</table>\n",
       "</div>"
      ],
      "text/plain": [
       "                                                       중국어  \\\n",
       "1832330  <start> 但是 , 前任 经济部长 和 专家 们 却 表示 : \" 如果 认为 在 选...   \n",
       "1111555  <start> 此前 TV 朝鲜 《 明日 - Miss   Trot 》 孝 演唱会 \" ...   \n",
       "2047905  <start> 但是 , 在 进行 总罢工 时 , 由于 必须 维持 人力 无论 物 流量 ...   \n",
       "\n",
       "                                                       한국어  \n",
       "1832330  <start>하지만 전직 경제장관과 전문가들은 선거에서 이겼다고 국민이 현 정부 경...  \n",
       "1111555  <start>앞서 TV조선 '내일은-미스트롯 孝 콘서트'는 목포 콘서트는 전석 매진...  \n",
       "2047905  <start>다만 총파업 돌입시에는 필수유지 인력도 물량에 상관없이 정시퇴근을 하는...  "
      ]
     },
     "execution_count": 8,
     "metadata": {},
     "output_type": "execute_result"
    }
   ],
   "source": [
    "path = os.getcwd()\n",
    "train_df = preprocess(path+'/Training')\n",
    "\n",
    "train_df.sample(3)"
   ]
  },
  {
   "cell_type": "code",
   "execution_count": null,
   "metadata": {},
   "outputs": [],
   "source": [
    "#중국어 전처리\n",
    "#def preprocess_ch(w):\n",
    "#    fail = []\n",
    "#    try:\n",
    "#        w = w.encode('EUC_CN')    #또는 CP936 둘 다 중국어 간체 지원\n",
    "#        return w\n",
    "#    except:\n",
    "#        fail.append(w)\n",
    "\n",
    "#train_df['중국어'] = train_df['중국어'].apply(preprocess_ch) \n",
    "#train_df.head()"
   ]
  },
  {
   "cell_type": "code",
   "execution_count": null,
   "metadata": {},
   "outputs": [],
   "source": [
    "train_df.to_csv('train_df.csv')"
   ]
  }
 ],
 "metadata": {
  "kernelspec": {
   "display_name": "Python 3.8.0 ('ch_to_ko')",
   "language": "python",
   "name": "python3"
  },
  "language_info": {
   "codemirror_mode": {
    "name": "ipython",
    "version": 3
   },
   "file_extension": ".py",
   "mimetype": "text/x-python",
   "name": "python",
   "nbconvert_exporter": "python",
   "pygments_lexer": "ipython3",
   "version": "3.8.0"
  },
  "orig_nbformat": 4,
  "vscode": {
   "interpreter": {
    "hash": "bbccb89b148dd9514aef483b7dbf5ef69a5110c405a551087bd813f1e5edc75f"
   }
  }
 },
 "nbformat": 4,
 "nbformat_minor": 2
}
