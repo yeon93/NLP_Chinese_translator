{
 "cells": [
  {
   "cell_type": "markdown",
   "metadata": {},
   "source": [
    "### AI HUB에서 한국어-중국어 번역 말뭉치(사회과학, 기술과학) 다운로드\n",
    "+ 데이터 구축분야\n",
    "    + 사회과학 : 금융/증시, 사회/노동/복지, 교육, 문화재/향토/K-FOOD, 조례, 정치/행정, K-POP(한류)/대중문화_공연_콘텐츠\n",
    "    + 기술과학 : 의료/보건, 특허/기술, 자동차/교통/소재, IT/컴퓨터/모바일\n",
    "+ 한글 원문 어절 수 : 평균 15어절\n",
    "+ 수량 : 병렬 말뭉치 130만개씩 총 260만개\n",
    "+ 분야별 세부 구축 수량(단위:만)\n",
    "    + 사회과학 : 금융/증시(20만), 사회/노동/복지(20만), 교육(10만), 문화재/향토/K-FOOD(15만), 조례(20만), 정치/행정(25만), K-POP(한류)/대중문화_공연_콘텐츠(20만)\n",
    "    + 기술과학 : 의료/보건(25만), 특허/기술(15만), 자동차/교통/소재(30만), IT/컴퓨터/모바일(60만)\n",
    "    \n",
    "<img src='https://aihub.or.kr/sites/default/files/styles/max_2600x2600/public/2021-05/028.%E1%84%92%E1%85%A1%E1%86%AB%E1%84%80%E1%85%AE%E1%86%A8%E1%84%8B%E1%85%A5-%E1%84%8C%E1%85%AE%E1%86%BC%E1%84%80%E1%85%AE%E1%86%A8%E1%84%8B%E1%85%A5%20%E1%84%87%E1%85%A5%E1%86%AB%E1%84%8B%E1%85%A7%E1%86%A8%20%E1%84%86%E1%85%A1%E1%86%AF%E1%84%86%E1%85%AE%E1%86%BC%E1%84%8E%E1%85%B5%28%E1%84%89%E1%85%A1%E1%84%92%E1%85%AC%E1%84%80%E1%85%AA%E1%84%92%E1%85%A1%E1%86%A8%29_%E1%84%83%E1%85%A2%E1%84%91%E1%85%AD%E1%84%83%E1%85%A9%E1%84%86%E1%85%A7%E1%86%AB.png?itok=AQ_3oXxE' width='700' height='200'>\n",
    "\n",
    "=> 9가지 정보 중 한국어, 중국어 정보만 추출"
   ]
  },
  {
   "cell_type": "code",
   "execution_count": 1,
   "metadata": {},
   "outputs": [],
   "source": [
    "#!pip install jieba   "
   ]
  },
  {
   "cell_type": "code",
   "execution_count": 2,
   "metadata": {},
   "outputs": [],
   "source": [
    "import os\n",
    "import glob\n",
    "import pandas as pd\n",
    "import re\n",
    "import jieba        #중국어 문장을 단어 단위로 분할 출력"
   ]
  },
  {
   "cell_type": "code",
   "execution_count": 3,
   "metadata": {},
   "outputs": [
    {
     "name": "stderr",
     "output_type": "stream",
     "text": [
      "C:\\Users\\yeonok\\AppData\\Local\\Temp\\ipykernel_5864\\1557320390.py:8: DtypeWarning: Columns (7) have mixed types. Specify dtype option on import or set low_memory=False.\n",
      "  train_df = pd.read_csv(t)\n"
     ]
    },
    {
     "name": "stdout",
     "output_type": "stream",
     "text": [
      "번역 데이터 : 학습용 2080000개, 검증용 260000개\n"
     ]
    },
    {
     "data": {
      "text/html": [
       "<div>\n",
       "<style scoped>\n",
       "    .dataframe tbody tr th:only-of-type {\n",
       "        vertical-align: middle;\n",
       "    }\n",
       "\n",
       "    .dataframe tbody tr th {\n",
       "        vertical-align: top;\n",
       "    }\n",
       "\n",
       "    .dataframe thead th {\n",
       "        text-align: right;\n",
       "    }\n",
       "</style>\n",
       "<table border=\"1\" class=\"dataframe\">\n",
       "  <thead>\n",
       "    <tr style=\"text-align: right;\">\n",
       "      <th></th>\n",
       "      <th>중국어</th>\n",
       "      <th>한국어</th>\n",
       "    </tr>\n",
       "  </thead>\n",
       "  <tbody>\n",
       "    <tr>\n",
       "      <th>1118287</th>\n",
       "      <td>高海丽接受了杰茜卡李的提议决心成为说客,车达建也在莉利的帮助下进入罗姆的\"黑森外援\"与杰罗姆相遇。</td>\n",
       "      <td>고해리는 제시카리의 제안을 받아들여 로비스트가 되기로 결심했고, 차달건 역시 릴리의...</td>\n",
       "    </tr>\n",
       "    <tr>\n",
       "      <th>750432</th>\n",
       "      <td>每天,经理职员都会把Excel的印刷资料放在当时副社长兼首席财务官(CFO)尹代表的书桌上。</td>\n",
       "      <td>매일 경리 직원이 당시 부사장 겸 최고재무책임자(CFO)인 윤 대표의 책상 위에 엑...</td>\n",
       "    </tr>\n",
       "    <tr>\n",
       "      <th>429855</th>\n",
       "      <td>因为,即使伦敦银行同业优惠利率计算中断,也不会对国内韩元交易产生直接影响,但直接影响衍生商品...</td>\n",
       "      <td>리보 산출이 중단돼도 국내 원화거래에 미치는 직접적 영향은 없지만, 파생상품거래와 ...</td>\n",
       "    </tr>\n",
       "    <tr>\n",
       "      <th>1298120</th>\n",
       "      <td>在原审判决宣判前的拘留天数中,将45天各算入被告人崔相信的上列刑。</td>\n",
       "      <td>원심판결선고전의 구금일수중 45일을 피고인 최상신에 대한 위 형에 각 산입한다.</td>\n",
       "    </tr>\n",
       "    <tr>\n",
       "      <th>482204</th>\n",
       "      <td>截至2012年6月,在读本科生共有9893人,在读研究生共有657人。</td>\n",
       "      <td>2012년 6월 현재 학부생은 총 9,893명, 대학원생은 총 657명이 재학하고 있다.</td>\n",
       "    </tr>\n",
       "  </tbody>\n",
       "</table>\n",
       "</div>"
      ],
      "text/plain": [
       "                                                       중국어  \\\n",
       "1118287  高海丽接受了杰茜卡李的提议决心成为说客,车达建也在莉利的帮助下进入罗姆的\"黑森外援\"与杰罗姆相遇。   \n",
       "750432      每天,经理职员都会把Excel的印刷资料放在当时副社长兼首席财务官(CFO)尹代表的书桌上。   \n",
       "429855   因为,即使伦敦银行同业优惠利率计算中断,也不会对国内韩元交易产生直接影响,但直接影响衍生商品...   \n",
       "1298120                  在原审判决宣判前的拘留天数中,将45天各算入被告人崔相信的上列刑。   \n",
       "482204                 截至2012年6月,在读本科生共有9893人,在读研究生共有657人。   \n",
       "\n",
       "                                                       한국어  \n",
       "1118287  고해리는 제시카리의 제안을 받아들여 로비스트가 되기로 결심했고, 차달건 역시 릴리의...  \n",
       "750432   매일 경리 직원이 당시 부사장 겸 최고재무책임자(CFO)인 윤 대표의 책상 위에 엑...  \n",
       "429855   리보 산출이 중단돼도 국내 원화거래에 미치는 직접적 영향은 없지만, 파생상품거래와 ...  \n",
       "1298120       원심판결선고전의 구금일수중 45일을 피고인 최상신에 대한 위 형에 각 산입한다.  \n",
       "482204   2012년 6월 현재 학부생은 총 9,893명, 대학원생은 총 657명이 재학하고 있다.  "
      ]
     },
     "execution_count": 3,
     "metadata": {},
     "output_type": "execute_result"
    }
   ],
   "source": [
    "path = os.getcwd()\n",
    "train_files = glob.glob(os.path.join(path+'/Training', '*.csv'))\n",
    "valid_files = glob.glob(os.path.join(path+'/Validation', '*.csv'))\n",
    "\n",
    "x_train, y_train, x_valid, y_valid = [], [], [], []\n",
    "\n",
    "for t in train_files:\n",
    "    train_df = pd.read_csv(t)\n",
    "    x_train.extend(train_df['중국어'].values)\n",
    "    y_train.extend(train_df['한국어'].values)\n",
    "    \n",
    "for v in valid_files:\n",
    "    valid_df = pd.read_csv(v)\n",
    "    x_valid.extend(valid_df['중국어'].values)\n",
    "    y_valid.extend(valid_df['한국어'].values)\n",
    "    \n",
    "x_train_s = pd.Series(x_train)\n",
    "y_train_s = pd.Series(y_train)\n",
    "train_df = pd.concat([x_train_s, y_train_s], axis=1)\n",
    "train_df.columns = ['중국어', '한국어']\n",
    "\n",
    "x_valid_s = pd.Series(x_valid)\n",
    "y_valid_s = pd.Series(y_valid)\n",
    "valid_df = pd.concat([x_valid_s, y_valid_s], axis=1)\n",
    "valid_df.columns = ['중국어', '한국어']\n",
    "\n",
    "print('번역 데이터 : 학습용 {}개, 검증용 {}개'.format(len(train_df), len(valid_df)))\n",
    "train_df.sample(5)"
   ]
  },
  {
   "cell_type": "code",
   "execution_count": 10,
   "metadata": {},
   "outputs": [],
   "source": [
    "#한국어 전처리\n",
    "\"\"\"\n",
    "(전)           명절 가사 노동이 여성에게만 쏠리는 현상은 '성차별'이라는 지적이 있다.\n",
    "(후)   <start> 명절 가사 노동이 여성에게만 쏠리는 현상은 ' 성차별 ' 이라는 지적이 있다 <end>\n",
    "\"\"\"\n",
    "def preprocess_kr(w):\n",
    "    #?'!,¿-·\" 앞뒤로 공백 삽입\n",
    "    w = re.sub(r\"([?'!,¿\\-·\\\"])\", r\" \\1 \", w)\n",
    "\n",
    "    # (a-z, A-Z, .?!,)을 제외한 모든 것을 공백으로 대체\n",
    "    w = re.sub(r'[ |ㄱ-ㅎ|ㅏ-ㅣ]+', \" \", w)\n",
    "\n",
    "    #문장의 . 중에서 마침표로 쓰인 . 만 제거(소수점 등의 경우에는 살려야 하기 때문)\n",
    "    w = w[:-1].strip()\n",
    "\n",
    "    # 모델에 예측 시작과 끝을 알려주기 위해 <start>, <end> 토큰을 추가\n",
    "    w = '<start> ' + w + ' <end>'\n",
    "    return w  "
   ]
  },
  {
   "cell_type": "code",
   "execution_count": 11,
   "metadata": {},
   "outputs": [],
   "source": [
    "#중국어 전처리 \n",
    "#cut_all=True 로 하면 全模式(완전모드)로, 단어가 될 수 있는 모든 어구를 스캔해 출력\n",
    "#cut_all=False 로 하면 精确模式 (기본 모드)를 사용해 문장의 변형 없이 단어 단위로 분할 출력\n",
    "\"\"\"\n",
    "(전)          有人指出,节日家务劳动只集中在女性身上的现象是\"性别歧视\"\n",
    "(후)  <start> 有人 指出 , 节日 家务劳动 只 集中 在 女性 身上 的 现象 是 \" 性别歧视 \" <end>\n",
    "\"\"\"\n",
    "def preprocess_ch(w):\n",
    "    w = ' '.join(jieba.cut(w, cut_all=False))   \n",
    "    w = w[:-1].rstrip().strip()    #문장의 마침표 제거\n",
    "    w = '<start> ' + w + ' <end>'\n",
    "    return w"
   ]
  },
  {
   "cell_type": "code",
   "execution_count": 12,
   "metadata": {},
   "outputs": [],
   "source": [
    "#한국어, 중국어 전처리를 한번에 해줄 함수 작성\n",
    "def preprocess(path):\n",
    "    files = glob.glob(os.path.join(path, '*.csv'))\n",
    "    ch, ko = [], []\n",
    "    \n",
    "    for f in files:\n",
    "        df = pd.read_csv(f)\n",
    "        ch.extend(df['중국어'].values)\n",
    "        ko.extend(df['한국어'].values)\n",
    "    \n",
    "    ch_series = pd.Series(ch)\n",
    "    ko_series = pd.Series(ko)\n",
    "    \n",
    "    df = pd.concat([ch_series, ko_series], axis=1)\n",
    "    df.columns = ['중국어', '한국어']\n",
    "    \n",
    "    df['중국어'] = df['중국어'].apply(preprocess_ch)\n",
    "    df['한국어'] = df['한국어'].apply(preprocess_kr)\n",
    "    \n",
    "    return df"
   ]
  },
  {
   "cell_type": "code",
   "execution_count": 13,
   "metadata": {},
   "outputs": [
    {
     "name": "stderr",
     "output_type": "stream",
     "text": [
      "C:\\Users\\yeonok\\AppData\\Local\\Temp\\ipykernel_5864\\4155401409.py:7: DtypeWarning: Columns (7) have mixed types. Specify dtype option on import or set low_memory=False.\n",
      "  df = pd.read_csv(f)\n"
     ]
    },
    {
     "name": "stdout",
     "output_type": "stream",
     "text": [
      "훈련 데이터셋 크기 : (2080000, 2)\n"
     ]
    },
    {
     "data": {
      "text/html": [
       "<div>\n",
       "<style scoped>\n",
       "    .dataframe tbody tr th:only-of-type {\n",
       "        vertical-align: middle;\n",
       "    }\n",
       "\n",
       "    .dataframe tbody tr th {\n",
       "        vertical-align: top;\n",
       "    }\n",
       "\n",
       "    .dataframe thead th {\n",
       "        text-align: right;\n",
       "    }\n",
       "</style>\n",
       "<table border=\"1\" class=\"dataframe\">\n",
       "  <thead>\n",
       "    <tr style=\"text-align: right;\">\n",
       "      <th></th>\n",
       "      <th>중국어</th>\n",
       "      <th>한국어</th>\n",
       "    </tr>\n",
       "  </thead>\n",
       "  <tbody>\n",
       "    <tr>\n",
       "      <th>177403</th>\n",
       "      <td>&lt;start&gt; 据 福特 销售 服务 韩国公司 透露 , 锐威 将 以 MKX 为 起点 ,...</td>\n",
       "      <td>&lt;start&gt; 포드세일즈서비스코리아에 따르면 레벨은 MKX를 시작으로 향후 10년간...</td>\n",
       "    </tr>\n",
       "    <tr>\n",
       "      <th>112479</th>\n",
       "      <td>&lt;start&gt; GM 大宇 汽车 , 以 一般 顾客 为 对象 , 提供 可以 亲身 体验 ...</td>\n",
       "      <td>&lt;start&gt; GM대우자동차가 일반 고객을 대상으로 젠트라 엑스를 직접 체험하고 평...</td>\n",
       "    </tr>\n",
       "    <tr>\n",
       "      <th>1969912</th>\n",
       "      <td>&lt;start&gt; 企划 财政部 、 文化 体育部 、 产业 通商 资源 部 、 雇佣劳动 部 ...</td>\n",
       "      <td>&lt;start&gt; 기획재정부와 문화체육부 , 산업통상자원부 , 고용노동부 , 국토교통부...</td>\n",
       "    </tr>\n",
       "  </tbody>\n",
       "</table>\n",
       "</div>"
      ],
      "text/plain": [
       "                                                       중국어  \\\n",
       "177403   <start> 据 福特 销售 服务 韩国公司 透露 , 锐威 将 以 MKX 为 起点 ,...   \n",
       "112479   <start> GM 大宇 汽车 , 以 一般 顾客 为 对象 , 提供 可以 亲身 体验 ...   \n",
       "1969912  <start> 企划 财政部 、 文化 体育部 、 产业 通商 资源 部 、 雇佣劳动 部 ...   \n",
       "\n",
       "                                                       한국어  \n",
       "177403   <start> 포드세일즈서비스코리아에 따르면 레벨은 MKX를 시작으로 향후 10년간...  \n",
       "112479   <start> GM대우자동차가 일반 고객을 대상으로 젠트라 엑스를 직접 체험하고 평...  \n",
       "1969912  <start> 기획재정부와 문화체육부 , 산업통상자원부 , 고용노동부 , 국토교통부...  "
      ]
     },
     "execution_count": 13,
     "metadata": {},
     "output_type": "execute_result"
    }
   ],
   "source": [
    "path = os.getcwd() + '\\\\Training'\n",
    "train_df = preprocess(path)\n",
    "\n",
    "print('훈련 데이터셋 크기 : {}'.format(train_df.shape))\n",
    "train_df.sample(3)"
   ]
  },
  {
   "cell_type": "code",
   "execution_count": 15,
   "metadata": {},
   "outputs": [
    {
     "name": "stdout",
     "output_type": "stream",
     "text": [
      "<start> 李 会长 对 他 的 公司 计划 购买 沃尔沃 或 萨博 的 报道 上 表示 了 贬值 <end>\n",
      "<start> 리 회장은 그의 회사가 볼보나 사브를 살 계획이라는 보도에 대해 평가절하했다 <end>\n",
      "\n",
      "<start> 现代 汽车 相关 人士 表示 : \" 追加 混合 动力 车款 的 现代 汽车 科纳 是 拥有 汽油 - 柴油 - 混合 动力 - 电动汽车 国内 最 多 发动机 生产线 的 小型 SUV , 有望 满足 多种 顾客 的 喜爱 。 <end>\n",
      "<start> 현대차 관계자는 \" 하이브리드 모델이 추가된 현대차 코나는 가솔린 - 디젤 - 하이브리드 - 전기차에 이르는 국내 최다 엔진 라인업을 갖춘 소형 SUV로 다양한 고객의 선호를 만족시킬 수 있을 것으로 기대된다 \" 고 말했다 <end>\n",
      "\n",
      "<start> 金融 监管局 最近 下令 制定 一项 计划 , 将 违反 交通法规 的 驾驶员 的 保险费 提高 至 30 ％ , 以 引起 驾驶员 和 政界人士 的 强烈 反对 , 并 由 保险 发展 协会 和 非 人寿保险 业 迅速 制定 改善 计划 <end>\n",
      "<start> 금감원은 최근 교통법규 위반 운전자에 대해 보험료를 최고 30% 할증하는 방안이 운전자와 정치권의 반발을 사자 보험개발원과 손해보험업계에 조속히 개선안을 마련할 것을 주문했다 <end>\n",
      "\n",
      "<start> 此前 , 韩国 信用 评级 机构 在 前一天 将 现代 、 起亚 汽车 的 信用等级 分别 下调 了 一个 等级 <end>\n",
      "<start> 앞서 한신평은 전날 현대 · 기아차의 신용등급을 한단계씩 하향 조정했다 <end>\n",
      "\n",
      "<start> IHS   Markit 经济学家 肖恩 · 琼斯 表示 ： \" 回答 问卷 的 企业 们 强调 了 汽车产业 面临 的 艰难 环境 。 <end>\n",
      "<start> IHS 마킷 이코노미스트 샨 존스는 \" 설문에 답한 업체들이 자동차 산업이 맞닥뜨린 힘든 환경을 강조했다 \" 고 전했다 <end>\n",
      "\n",
      "<start> 驾驶员 和 汽车 制造商 均 可 从 EPB 的 应用 中 获益 <end>\n",
      "<start> EPB 적용으로 운전자와 자동차제조사 모두가 이익을 볼 수 있다 <end>\n",
      "\n",
      "<start> 由于 电动汽车 零部件 业务 及其 子公司 ZKW 的 照明 业务 的 销售额 减少 , 销售额 同比 减少 了 2.1% <end>\n",
      "<start> 매출은 전기차 부품 사업과 자회사인 ZKW의 램프사업 매출 감소로 전년동기 대비 2.1% 줄었다 <end>\n",
      "\n",
      "<start> 阿塞洛 一直 向 美国 和 墨西哥 的 日产 工厂 出口 钢材 , 但 很少 出口 到 日本 工厂 <end>\n",
      "<start> 아르셀로는 미국과 멕시코의 닛산 공장에 철강재를 수출해왔지만 일본 공장에는 거의 수출하지 않아왔다 <end>\n",
      "\n",
      "<start> 最近 , 雷诺 三星 汽车 劳资双方 在 2019 年 的 工资 协商 中 冻结 了 基本工资 等 , 结束 了 此前 的 矛盾 关系 , 开始 追求 双赢 <end>\n",
      "<start> 최근 르노삼성차 노사는 2019년 임금협상에서 기본급을 동결하는 등 그동안의 갈등 관계를 접고 상생 기조를 펼치고 있다 <end>\n",
      "\n",
      "<start> 唐津 工厂 恢复正常 后 , 现代 、 起亚 汽车集团 的 钢铁 系列 公司 的 产品 生产量 将 构成 INI 钢铁 1270 万吨 、 现代 Hysco500 万吨 、 BNG 钢铁 30 万吨 等 共 1800 万吨 的 生产 体系 , 从而 跃居 产品 生产量 世界 第 8 位 的 大规模 钢铁集团 <end>\n",
      "<start> 당진공장이 정상화되면 현대 · 기아차그룹의 철강계열사 제품 생산량은 INI스틸 1 , 270만t , 현대하이스코 500만t , BNG스틸 30만t 등 총 1 , 800만t 생산체제를 구축해 제품생산량 기준 세계 8위의 대규모 철강그룹으로 도약하게 된다 <end>\n",
      "\n"
     ]
    }
   ],
   "source": [
    "#전처리가 잘 됐는지 확인\n",
    "for i in range(10):\n",
    "    print(train_df.iloc[i,0])\n",
    "    print(train_df.iloc[i,1])\n",
    "    print()"
   ]
  }
 ],
 "metadata": {
  "kernelspec": {
   "display_name": "Python 3.8.0 ('ch_to_ko')",
   "language": "python",
   "name": "python3"
  },
  "language_info": {
   "codemirror_mode": {
    "name": "ipython",
    "version": 3
   },
   "file_extension": ".py",
   "mimetype": "text/x-python",
   "name": "python",
   "nbconvert_exporter": "python",
   "pygments_lexer": "ipython3",
   "version": "3.8.0"
  },
  "orig_nbformat": 4,
  "vscode": {
   "interpreter": {
    "hash": "bbccb89b148dd9514aef483b7dbf5ef69a5110c405a551087bd813f1e5edc75f"
   }
  }
 },
 "nbformat": 4,
 "nbformat_minor": 2
}
